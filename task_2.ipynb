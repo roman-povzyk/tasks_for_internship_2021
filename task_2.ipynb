{
 "cells": [
  {
   "cell_type": "markdown",
   "metadata": {},
   "source": [
    "### 1. Умова задачі\n",
    "Ви маєте матрицю MxN, що представляє собою мапу. Є дві можливі стани у мапи: 1 — острів, 0 — океан. Ваше завдання порахувати кількість островів найефективнішим шляхом. Будь ласка, напишіть код на Python 3."
   ]
  },
  {
   "cell_type": "markdown",
   "metadata": {},
   "source": [
    "### 2. Показуємо наші мапи"
   ]
  },
  {
   "cell_type": "code",
   "execution_count": 204,
   "metadata": {},
   "outputs": [],
   "source": [
    "matrix_0 = [[1, 1],\n",
    "            [0, 0]]"
   ]
  },
  {
   "cell_type": "code",
   "execution_count": 205,
   "metadata": {},
   "outputs": [],
   "source": [
    "matrix_1 = [[0, 1, 0],\n",
    "            [0, 0, 0],\n",
    "            [0, 1, 1]]"
   ]
  },
  {
   "cell_type": "code",
   "execution_count": 206,
   "metadata": {},
   "outputs": [],
   "source": [
    "matrix_2 = [[0, 0, 0, 1],\n",
    "            [0, 0, 1, 0],\n",
    "            [0, 1, 0, 0]]"
   ]
  },
  {
   "cell_type": "code",
   "execution_count": 207,
   "metadata": {},
   "outputs": [],
   "source": [
    "matrix_3 = [[0, 0, 0, 1],\n",
    "            [0, 0, 1, 1],\n",
    "            [0, 1, 0, 1]]"
   ]
  },
  {
   "cell_type": "markdown",
   "metadata": {},
   "source": [
    "### 3. Прописуємо функцію для Depth First Search"
   ]
  },
  {
   "cell_type": "code",
   "execution_count": 208,
   "metadata": {},
   "outputs": [],
   "source": [
    "def dfs(grid, i, j):\n",
    "    rows = len(grid)\n",
    "    cols = len(grid[0])\n",
    "    \n",
    "    if i < 0 or j < 0 or i >= rows or j >= cols or grid[i][j] != 1:\n",
    "        return \n",
    "      \n",
    "    print(f'Міняю на нуль {i, j}')\n",
    "    grid[i][j] = '0'\n",
    "        \n",
    "    dfs(grid, i+1, j)\n",
    "    dfs(grid, i-1, j)\n",
    "    dfs(grid, i, j+1)\n",
    "    dfs(grid, i, j-1)"
   ]
  },
  {
   "cell_type": "markdown",
   "metadata": {},
   "source": [
    "### 4. Прописуємо функцію, яка рахуватиме наші острови"
   ]
  },
  {
   "cell_type": "code",
   "execution_count": 209,
   "metadata": {},
   "outputs": [],
   "source": [
    "def counting_islands(grid):      \n",
    "    if not grid:\n",
    "        return 0\n",
    "    \n",
    "    rows = len(grid)\n",
    "    print(f'rows — {rows}')\n",
    "    cols = len(grid[0])\n",
    "    print(f'rows — {cols}')\n",
    "    count = 0\n",
    "    \n",
    "    for i in range(rows):\n",
    "        for j in range(cols):\n",
    "            print(f'i = {i}, j = {j}, element = {grid[i][j]}')\n",
    "            if grid[i][j] == 1:\n",
    "                count += 1\n",
    "                print(f'count = {count}')\n",
    "                dfs(grid, i, j)                \n",
    "    print()\n",
    "    return f'Кількість островів — {count}'"
   ]
  },
  {
   "cell_type": "markdown",
   "metadata": {},
   "source": [
    "### 5. Перевіряємо розв'язок на наших чотирьох матрицях"
   ]
  },
  {
   "cell_type": "code",
   "execution_count": 210,
   "metadata": {},
   "outputs": [
    {
     "name": "stdout",
     "output_type": "stream",
     "text": [
      "rows — 2\n",
      "rows — 2\n",
      "i = 0, j = 0, element = 1\n",
      "count = 1\n",
      "Міняю на нуль (0, 0)\n",
      "Міняю на нуль (0, 1)\n",
      "i = 0, j = 1, element = 0\n",
      "i = 1, j = 0, element = 0\n",
      "i = 1, j = 1, element = 0\n",
      "\n"
     ]
    },
    {
     "data": {
      "text/plain": [
       "'Кількість островів — 1'"
      ]
     },
     "execution_count": 210,
     "metadata": {},
     "output_type": "execute_result"
    }
   ],
   "source": [
    "counting_islands(matrix_0)"
   ]
  },
  {
   "cell_type": "code",
   "execution_count": 211,
   "metadata": {},
   "outputs": [
    {
     "name": "stdout",
     "output_type": "stream",
     "text": [
      "rows — 3\n",
      "rows — 3\n",
      "i = 0, j = 0, element = 0\n",
      "i = 0, j = 1, element = 1\n",
      "count = 1\n",
      "Міняю на нуль (0, 1)\n",
      "i = 0, j = 2, element = 0\n",
      "i = 1, j = 0, element = 0\n",
      "i = 1, j = 1, element = 0\n",
      "i = 1, j = 2, element = 0\n",
      "i = 2, j = 0, element = 0\n",
      "i = 2, j = 1, element = 1\n",
      "count = 2\n",
      "Міняю на нуль (2, 1)\n",
      "Міняю на нуль (2, 2)\n",
      "i = 2, j = 2, element = 0\n",
      "\n"
     ]
    },
    {
     "data": {
      "text/plain": [
       "'Кількість островів — 2'"
      ]
     },
     "execution_count": 211,
     "metadata": {},
     "output_type": "execute_result"
    }
   ],
   "source": [
    "counting_islands(matrix_1)"
   ]
  },
  {
   "cell_type": "code",
   "execution_count": 212,
   "metadata": {},
   "outputs": [
    {
     "name": "stdout",
     "output_type": "stream",
     "text": [
      "rows — 3\n",
      "rows — 4\n",
      "i = 0, j = 0, element = 0\n",
      "i = 0, j = 1, element = 0\n",
      "i = 0, j = 2, element = 0\n",
      "i = 0, j = 3, element = 1\n",
      "count = 1\n",
      "Міняю на нуль (0, 3)\n",
      "i = 1, j = 0, element = 0\n",
      "i = 1, j = 1, element = 0\n",
      "i = 1, j = 2, element = 1\n",
      "count = 2\n",
      "Міняю на нуль (1, 2)\n",
      "i = 1, j = 3, element = 0\n",
      "i = 2, j = 0, element = 0\n",
      "i = 2, j = 1, element = 1\n",
      "count = 3\n",
      "Міняю на нуль (2, 1)\n",
      "i = 2, j = 2, element = 0\n",
      "i = 2, j = 3, element = 0\n",
      "\n"
     ]
    },
    {
     "data": {
      "text/plain": [
       "'Кількість островів — 3'"
      ]
     },
     "execution_count": 212,
     "metadata": {},
     "output_type": "execute_result"
    }
   ],
   "source": [
    "counting_islands(matrix_2)"
   ]
  },
  {
   "cell_type": "code",
   "execution_count": 213,
   "metadata": {},
   "outputs": [
    {
     "name": "stdout",
     "output_type": "stream",
     "text": [
      "rows — 3\n",
      "rows — 4\n",
      "i = 0, j = 0, element = 0\n",
      "i = 0, j = 1, element = 0\n",
      "i = 0, j = 2, element = 0\n",
      "i = 0, j = 3, element = 1\n",
      "count = 1\n",
      "Міняю на нуль (0, 3)\n",
      "Міняю на нуль (1, 3)\n",
      "Міняю на нуль (2, 3)\n",
      "Міняю на нуль (1, 2)\n",
      "i = 1, j = 0, element = 0\n",
      "i = 1, j = 1, element = 0\n",
      "i = 1, j = 2, element = 0\n",
      "i = 1, j = 3, element = 0\n",
      "i = 2, j = 0, element = 0\n",
      "i = 2, j = 1, element = 1\n",
      "count = 2\n",
      "Міняю на нуль (2, 1)\n",
      "i = 2, j = 2, element = 0\n",
      "i = 2, j = 3, element = 0\n",
      "\n"
     ]
    },
    {
     "data": {
      "text/plain": [
       "'Кількість островів — 2'"
      ]
     },
     "execution_count": 213,
     "metadata": {},
     "output_type": "execute_result"
    }
   ],
   "source": [
    "counting_islands(matrix_3)"
   ]
  },
  {
   "cell_type": "code",
   "execution_count": null,
   "metadata": {},
   "outputs": [],
   "source": []
  }
 ],
 "metadata": {
  "kernelspec": {
   "display_name": "Python 3",
   "language": "python",
   "name": "python3"
  },
  "language_info": {
   "codemirror_mode": {
    "name": "ipython",
    "version": 3
   },
   "file_extension": ".py",
   "mimetype": "text/x-python",
   "name": "python",
   "nbconvert_exporter": "python",
   "pygments_lexer": "ipython3",
   "version": "3.7.6"
  }
 },
 "nbformat": 4,
 "nbformat_minor": 4
}
