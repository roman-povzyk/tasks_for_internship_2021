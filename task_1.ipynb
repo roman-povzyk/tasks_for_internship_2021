{
 "cells": [
  {
   "cell_type": "markdown",
   "metadata": {},
   "source": [
    "### 1. Умова задачі\n",
    "\n",
    "Ви маєте позитивне число N у якості вводу.\n",
    "Будь ласка, напишіть програму у Python 3, яка рахує суму від 1 до N.\n",
    "\n",
    "Обмеження:\n",
    "* N <= 10^25;\n",
    "* час на виконання програми: 0,1 секунда."
   ]
  },
  {
   "cell_type": "markdown",
   "metadata": {},
   "source": [
    "### 2. Створюємо можливість для вимірювання часу\n",
    "\n",
    "Для цього підвантажуємо спеціальні бібліотеки і прописуємо декоратор вимірювання часу виконання функції."
   ]
  },
  {
   "cell_type": "code",
   "execution_count": 2,
   "metadata": {},
   "outputs": [],
   "source": [
    "import time\n",
    "import functools"
   ]
  },
  {
   "cell_type": "code",
   "execution_count": 3,
   "metadata": {},
   "outputs": [],
   "source": [
    "def timer(func):\n",
    "    @functools.wraps(func)\n",
    "    def wrapper_timer(*args, **kwargs):\n",
    "        tic = time.perf_counter()\n",
    "        value = func(*args, **kwargs)\n",
    "        toc = time.perf_counter()\n",
    "        elapsed_time = toc - tic\n",
    "        print(f\"Час на виконання: {elapsed_time:0.10f} секунд.\")\n",
    "        return value\n",
    "\n",
    "    return wrapper_timer"
   ]
  },
  {
   "cell_type": "markdown",
   "metadata": {},
   "source": [
    "### 3. Прописуємо функцію, яка рахуватиме нашу суму\n",
    "\n",
    "В основу алгоритму взято історію про маленького Карла Фрідріха Гаусса (детальніше тут: https://www.americanscientist.org/article/gausss-day-of-reckoning). Цю задачу нам давали у 5-ому класі на шкільній олімпіаді з математики. Нині просто зросли межі значень.\n",
    "\n",
    "Але ми використовуємо два алгоритми, в залежності від парності чи непарності N.\n",
    "\n",
    "Також ставимо перед функцією декоратор, щоб вкластися у обмеження задачі."
   ]
  },
  {
   "cell_type": "code",
   "execution_count": 4,
   "metadata": {},
   "outputs": [],
   "source": [
    "@timer\n",
    "def sum_numbers(number):\n",
    "    if number % 2 == 0:\n",
    "        sum_n = (1 + number) * (number / 2)\n",
    "    else:\n",
    "        sum_n = (number - 1) * (number / 2) + number\n",
    "    return int(sum_n)"
   ]
  },
  {
   "cell_type": "markdown",
   "metadata": {},
   "source": [
    "### 4. Отримуємо від користувача число N і даємо відповідь"
   ]
  },
  {
   "cell_type": "code",
   "execution_count": 5,
   "metadata": {},
   "outputs": [
    {
     "name": "stdout",
     "output_type": "stream",
     "text": [
      "Введіть своє число: 10000000000000000000000000\n",
      "Час на виконання: 0.0000119000 секунд.\n",
      "Сума перших 10000000000000000000000000 чисел — 50000000000000014199478637615598758708475143913472.\n"
     ]
    }
   ],
   "source": [
    "customer_number = (int(input('Введіть своє число: ')))\n",
    "print(f'Сума перших {customer_number} чисел — {sum_numbers(customer_number)}.')"
   ]
  },
  {
   "cell_type": "code",
   "execution_count": null,
   "metadata": {},
   "outputs": [],
   "source": []
  }
 ],
 "metadata": {
  "kernelspec": {
   "display_name": "Python 3",
   "language": "python",
   "name": "python3"
  },
  "language_info": {
   "codemirror_mode": {
    "name": "ipython",
    "version": 3
   },
   "file_extension": ".py",
   "mimetype": "text/x-python",
   "name": "python",
   "nbconvert_exporter": "python",
   "pygments_lexer": "ipython3",
   "version": "3.7.6"
  }
 },
 "nbformat": 4,
 "nbformat_minor": 4
}
